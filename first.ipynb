{
 "cells": [
  {
   "cell_type": "markdown",
   "id": "b6be7631-e5aa-4e3c-8280-0675ca5b7d04",
   "metadata": {},
   "source": [
    "# The main title"
   ]
  },
  {
   "cell_type": "code",
   "execution_count": 1,
   "id": "272bcf0c-981f-4ace-a805-1918a9bd963e",
   "metadata": {},
   "outputs": [
    {
     "name": "stdout",
     "output_type": "stream",
     "text": [
      "Hello world!\n"
     ]
    }
   ],
   "source": [
    "print(\"Hello world!\")"
   ]
  },
  {
   "cell_type": "code",
   "execution_count": null,
   "id": "63270374-4cf7-4b6c-9099-b68ec73393ea",
   "metadata": {},
   "outputs": [],
   "source": []
  }
 ],
 "metadata": {
  "kernelspec": {
   "display_name": "Python 3 (ipykernel)",
   "language": "python",
   "name": "python3"
  },
  "language_info": {
   "codemirror_mode": {
    "name": "ipython",
    "version": 3
   },
   "file_extension": ".py",
   "mimetype": "text/x-python",
   "name": "python",
   "nbconvert_exporter": "python",
   "pygments_lexer": "ipython3",
   "version": "3.10.6"
  }
 },
 "nbformat": 4,
 "nbformat_minor": 5
}
